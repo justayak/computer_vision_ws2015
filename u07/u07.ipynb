{
 "cells": [
  {
   "cell_type": "markdown",
   "metadata": {},
   "source": [
    "# SIFT: Scale Invariant Feature Transform\n",
    "\n",
    "Extract features that are invariant towards:\n",
    "* image scale\n",
    "* rotation\n",
    "* afine distortion\n",
    "* changes in 3D viewpoint\n",
    "* noise\n",
    "* change in illumination"
   ]
  }
 ],
 "metadata": {
  "kernelspec": {
   "display_name": "Python 3",
   "language": "python",
   "name": "python3"
  },
  "language_info": {
   "codemirror_mode": {
    "name": "ipython",
    "version": 3
   },
   "file_extension": ".py",
   "mimetype": "text/x-python",
   "name": "python",
   "nbconvert_exporter": "python",
   "pygments_lexer": "ipython3",
   "version": "3.5.1"
  }
 },
 "nbformat": 4,
 "nbformat_minor": 0
}
