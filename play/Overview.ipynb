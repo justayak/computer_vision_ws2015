{
 "cells": [
  {
   "cell_type": "markdown",
   "metadata": {},
   "source": [
    "# Computer Vision\n",
    "\n",
    "## Overview\n",
    "\n",
    "* Lochkamera\n",
    "* Farbraeume\n",
    "* CCD/CMOS\n",
    "* Weltkoordinaten\n",
    "* Bayersfilter\n",
    "* RGB / HSV\n",
    "* Camshift\n",
    "* Image moments\n",
    "    * Ableitung\n",
    "* Background Subtraction\n",
    "    * Exponentieller Tiefpass\n",
    "* Morphologische Operatoren\n",
    "    * Strukturelemente\n",
    "    * Erosion\n",
    "    * Dilatation\n",
    "    * Opening & Closing\n",
    "* Sobel\n",
    "* Canny Edge\n",
    "    * Non-maximum suppression\n",
    "* HOG\n",
    "    * Invariant gegen scale und translation\n",
    "* Hough Transformation\n",
    "* Interest Points\n",
    "* Taylor approximation\n",
    "* Moravecs Corners\n",
    "* Harris Corner Detection\n",
    "    * Structure Tensor\n",
    "* LoG und DoG\n",
    "* Optical Flow\n",
    "* Lucas-Kanade\n",
    "* Shi-Tomasi\n",
    "* SURF\n",
    "* SIFT\n",
    "\n"
   ]
  },
  {
   "cell_type": "code",
   "execution_count": 1,
   "metadata": {
    "collapsed": true
   },
   "outputs": [],
   "source": [
    "# do all the import stuff\n",
    "%matplotlib inline\n",
    "import matplotlib.pyplot as plt\n",
    "import matplotlib.cm as cm\n",
    "from PIL import Image\n",
    "from scipy import signal, ndimage\n",
    "import numpy as np\n",
    "import math\n",
    "\n",
    "# import my modules\n",
    "import sys\n",
    "sys.path.append('/home/julian/dev/computer_vision_ws2015/')\n",
    "\n",
    "import juvis as jv"
   ]
  }
 ],
 "metadata": {
  "kernelspec": {
   "display_name": "Python 3",
   "language": "python",
   "name": "python3"
  },
  "language_info": {
   "codemirror_mode": {
    "name": "ipython",
    "version": 3
   },
   "file_extension": ".py",
   "mimetype": "text/x-python",
   "name": "python",
   "nbconvert_exporter": "python",
   "pygments_lexer": "ipython3",
   "version": "3.5.1"
  }
 },
 "nbformat": 4,
 "nbformat_minor": 0
}
