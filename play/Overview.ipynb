{
 "cells": [
  {
   "cell_type": "markdown",
   "metadata": {},
   "source": [
    "# Computer Vision\n",
    "\n",
    "## Overview\n",
    "\n",
    "* Lochkamera\n",
    "* Farbraeume\n",
    "* CCD/CMOS\n",
    "* Weltkoordinaten\n",
    "* Bayersfilter\n",
    "* RGB / HSV\n",
    "* Camshift\n",
    "* Image moments\n",
    "    * Ableitung\n",
    "* Background Subtraction\n",
    "    * Exponentieller Tiefpass\n",
    "* Morphologische Operatoren\n",
    "    * Strukturelemente\n",
    "    * Erosion\n",
    "    * Dilatation\n",
    "    * Opening & Closing\n",
    "* Sobel\n",
    "* Canny Edge\n",
    "    * Non-maximum suppression\n",
    "* HOG\n",
    "    * Invariant gegen scale und translation\n",
    "* Hough Transformation\n",
    "* Interest Points\n",
    "* Taylor approximation\n",
    "* Moravecs Corners\n",
    "* Harris Corner Detection\n",
    "    * Structure Tensor\n",
    "* LoG und DoG\n",
    "* Optical Flow\n",
    "* Lucas-Kanade\n",
    "* Shi-Tomasi\n",
    "* SURF\n",
    "* SIFT\n",
    "\n"
   ]
  },
  {
   "cell_type": "code",
   "execution_count": 1,
   "metadata": {
    "collapsed": false
   },
   "outputs": [],
   "source": [
    "# do all the import stuff\n",
    "%matplotlib inline\n",
    "import matplotlib.pyplot as plt\n",
    "import matplotlib.cm as cm\n",
    "from PIL import Image\n",
    "from scipy import signal, ndimage\n",
    "import numpy as np\n",
    "import math\n",
    "import cv2\n",
    "\n",
    "# import my modules\n",
    "import sys\n",
    "sys.path.append('/home/julian/dev/computer_vision_ws2015/')\n",
    "\n",
    "import juvis as jv\n",
    "\n",
    "Smila = np.array(Image.open('smila.png').convert('L'))\n",
    "Factor = 0.5\n",
    "size = (int(Smila.shape[1] * Factor), int(Smila.shape[0] * Factor))\n",
    "Smila = jv.imresize(Smila, size)"
   ]
  },
  {
   "cell_type": "markdown",
   "metadata": {},
   "source": [
    "## Canny edge\n",
    "* Apply Gaussian filter to remove noise\n",
    "* Find intensity gradients of the image\n",
    "* Apply non-maximum suppression to get rid of sporious response to edge detection\n",
    "* Apply double threshold todetermine potential edges\n",
    "* Track edge by hysteresis: Finalize detection of edges by suppressing all the other edges that are weak and not connected to strong edges"
   ]
  },
  {
   "cell_type": "code",
   "execution_count": 2,
   "metadata": {
    "collapsed": false
   },
   "outputs": [
    {
     "ename": "TypeError",
     "evalue": "ufunc 'true_divide' output (typecode 'd') could not be coerced to provided output parameter (typecode 'l') according to the casting rule ''same_kind''",
     "output_type": "error",
     "traceback": [
      "\u001b[1;31m---------------------------------------------------------------------------\u001b[0m",
      "\u001b[1;31mTypeError\u001b[0m                                 Traceback (most recent call last)",
      "\u001b[1;32m<ipython-input-2-c50cf08a787e>\u001b[0m in \u001b[0;36m<module>\u001b[1;34m()\u001b[0m\n\u001b[0;32m     38\u001b[0m \u001b[0mIg\u001b[0m \u001b[1;33m=\u001b[0m \u001b[0mcanny_edge\u001b[0m\u001b[1;33m(\u001b[0m\u001b[0mI\u001b[0m\u001b[1;33m,\u001b[0m \u001b[0mDebug\u001b[0m\u001b[1;33m=\u001b[0m\u001b[0mOut\u001b[0m\u001b[1;33m)\u001b[0m\u001b[1;33m\u001b[0m\u001b[0m\n\u001b[0;32m     39\u001b[0m \u001b[1;33m\u001b[0m\u001b[0m\n\u001b[1;32m---> 40\u001b[1;33m \u001b[0mjv\u001b[0m\u001b[1;33m.\u001b[0m\u001b[0mplot_mats\u001b[0m\u001b[1;33m(\u001b[0m\u001b[0mOut\u001b[0m\u001b[1;33m,\u001b[0m \u001b[0mcols\u001b[0m\u001b[1;33m=\u001b[0m\u001b[1;36m3\u001b[0m\u001b[1;33m)\u001b[0m\u001b[1;33m\u001b[0m\u001b[0m\n\u001b[0m",
      "\u001b[1;32m/home/julian/dev/computer_vision_ws2015/juvis.py\u001b[0m in \u001b[0;36mplot_mats\u001b[1;34m(mats, cols, cmap)\u001b[0m\n\u001b[0;32m    139\u001b[0m         \u001b[0mmaxv\u001b[0m \u001b[1;33m=\u001b[0m \u001b[0mnp\u001b[0m\u001b[1;33m.\u001b[0m\u001b[0mmax\u001b[0m\u001b[1;33m(\u001b[0m\u001b[0mM\u001b[0m\u001b[1;33m)\u001b[0m\u001b[1;33m\u001b[0m\u001b[0m\n\u001b[0;32m    140\u001b[0m         \u001b[1;32mif\u001b[0m \u001b[0mminv\u001b[0m \u001b[1;33m<\u001b[0m \u001b[1;36m0\u001b[0m \u001b[1;32mor\u001b[0m \u001b[0mminv\u001b[0m \u001b[1;33m>\u001b[0m \u001b[1;36m255\u001b[0m \u001b[1;32mor\u001b[0m \u001b[0mmaxv\u001b[0m \u001b[1;33m<\u001b[0m \u001b[1;36m0\u001b[0m \u001b[1;32mor\u001b[0m \u001b[0mmaxv\u001b[0m \u001b[1;33m>\u001b[0m \u001b[1;36m255\u001b[0m\u001b[1;33m:\u001b[0m\u001b[1;33m\u001b[0m\u001b[0m\n\u001b[1;32m--> 141\u001b[1;33m             \u001b[0mM\u001b[0m \u001b[1;33m=\u001b[0m \u001b[0mtranslate\u001b[0m\u001b[1;33m(\u001b[0m\u001b[0mM\u001b[0m\u001b[1;33m,\u001b[0m \u001b[0mminv\u001b[0m\u001b[1;33m,\u001b[0m \u001b[0mmaxv\u001b[0m\u001b[1;33m,\u001b[0m \u001b[1;36m0\u001b[0m\u001b[1;33m,\u001b[0m \u001b[1;36m255\u001b[0m\u001b[1;33m)\u001b[0m\u001b[1;33m\u001b[0m\u001b[0m\n\u001b[0m\u001b[0;32m    142\u001b[0m \u001b[1;33m\u001b[0m\u001b[0m\n\u001b[0;32m    143\u001b[0m         \u001b[1;32mif\u001b[0m \u001b[0mi\u001b[0m\u001b[1;33m%\u001b[0m\u001b[0mcols\u001b[0m \u001b[1;33m==\u001b[0m \u001b[1;36m0\u001b[0m\u001b[1;33m:\u001b[0m\u001b[1;33m\u001b[0m\u001b[0m\n",
      "\u001b[1;32m/home/julian/dev/computer_vision_ws2015/juvis.py\u001b[0m in \u001b[0;36mtranslate\u001b[1;34m(value, leftMin, leftMax, rightMin, rightMax)\u001b[0m\n\u001b[0;32m    118\u001b[0m     \u001b[0mrightSpan\u001b[0m \u001b[1;33m=\u001b[0m \u001b[0mabs\u001b[0m\u001b[1;33m(\u001b[0m\u001b[0mfloat\u001b[0m\u001b[1;33m(\u001b[0m\u001b[0mrightMax\u001b[0m \u001b[1;33m-\u001b[0m \u001b[0mrightMin\u001b[0m\u001b[1;33m)\u001b[0m\u001b[1;33m)\u001b[0m\u001b[1;33m\u001b[0m\u001b[0m\n\u001b[0;32m    119\u001b[0m     \u001b[0mvalue\u001b[0m \u001b[1;33m-=\u001b[0m \u001b[0mleftMin\u001b[0m\u001b[1;33m\u001b[0m\u001b[0m\n\u001b[1;32m--> 120\u001b[1;33m     \u001b[0mvalue\u001b[0m \u001b[1;33m/=\u001b[0m \u001b[0mleftSpan\u001b[0m\u001b[1;33m\u001b[0m\u001b[0m\n\u001b[0m\u001b[0;32m    121\u001b[0m     \u001b[0mvalue\u001b[0m \u001b[1;33m*=\u001b[0m \u001b[0mrightSpan\u001b[0m\u001b[1;33m\u001b[0m\u001b[0m\n\u001b[0;32m    122\u001b[0m     \u001b[1;32mreturn\u001b[0m \u001b[0mvalue\u001b[0m\u001b[1;33m.\u001b[0m\u001b[0mastype\u001b[0m\u001b[1;33m(\u001b[0m\u001b[0mdtype\u001b[0m\u001b[1;33m)\u001b[0m\u001b[1;33m\u001b[0m\u001b[0m\n",
      "\u001b[1;31mTypeError\u001b[0m: ufunc 'true_divide' output (typecode 'd') could not be coerced to provided output parameter (typecode 'l') according to the casting rule ''same_kind''"
     ]
    }
   ],
   "source": [
    "I = Smila.copy()\n",
    "\n",
    "def translate(value, leftMin, leftMax, rightMin, rightMax):\n",
    "    # Figure out how 'wide' each range is\n",
    "    dtype = value.dtype\n",
    "    leftSpan = abs(float(leftMax - leftMin))\n",
    "    rightSpan = rightMax - rightMin\n",
    "    value -= leftMin\n",
    "    value = value / leftSpan\n",
    "    value *= rightSpan\n",
    "    return value.astype(dtype)\n",
    "\n",
    "def sobel(I):\n",
    "    Kx = np.array([[-1, 0, 1],[-2, 0, 2],[-1, 0, 1]])\n",
    "    Ky = Kx.T\n",
    "    Sx = signal.convolve2d(I, Kx, boundary='symm', mode='same')\n",
    "    Sy = signal.convolve2d(I, Ky, boundary='symm', mode='same')\n",
    "    return Sx, Sy\n",
    "\n",
    "def canny_edge(I, Debug=[]):\n",
    "    Ig = ndimage.filters.gaussian_filter(I, 1.4)\n",
    "    Ix, Iy = sobel(Ig)\n",
    "    G = np.sqrt(Ix * Ix + Iy * Iy)\n",
    "    \n",
    "    \n",
    "    #Ix = translate(Ix, np.min(Ix), np.max(Ix), 0, 255)\n",
    "    #Iy = translate(Iy, np.min(Iy), np.max(Iy), 0, 255)\n",
    "    #Debug = np.hstack((I, Ig, Ix, Iy, G))\n",
    "    #Debug = [I, Ig, Ix, Iy, G]\n",
    "    Debug.append(I)\n",
    "    Debug.append(Ig)\n",
    "    Debug.append(Ix)\n",
    "    Debug.append(Iy)\n",
    "    Debug.append(G)\n",
    "    return G\n",
    "\n",
    "Out = []\n",
    "Ig = canny_edge(I, Debug=Out)\n",
    "\n",
    "jv.plot_mats(Out, cols=3)"
   ]
  },
  {
   "cell_type": "markdown",
   "metadata": {},
   "source": [
    "## Hough transform\n",
    "\n",
    "* Feature extraction technique\n",
    "* Find imperfect instances of objects within class of shapes by a voting procedure\n"
   ]
  }
 ],
 "metadata": {
  "kernelspec": {
   "display_name": "Python 3",
   "language": "python",
   "name": "python3"
  },
  "language_info": {
   "codemirror_mode": {
    "name": "ipython",
    "version": 3
   },
   "file_extension": ".py",
   "mimetype": "text/x-python",
   "name": "python",
   "nbconvert_exporter": "python",
   "pygments_lexer": "ipython3",
   "version": "3.5.1"
  }
 },
 "nbformat": 4,
 "nbformat_minor": 0
}
